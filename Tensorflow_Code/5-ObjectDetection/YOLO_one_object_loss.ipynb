{
 "cells": [
  {
   "cell_type": "code",
   "execution_count": 1,
   "metadata": {
    "collapsed": false
   },
   "outputs": [
    {
     "data": {
      "text/plain": [
       "'\\n[Common]\\nimage_size: 448\\nbatch_size: 16\\nnum_classes: 20\\nmax_objects_per_image: 20\\n[DataSet]\\nname: yolo.dataset.text_dataset.TextDataSet\\npath: data/pascal_voc.txt\\nthread_num: 5\\n[Net]\\nname: yolo.net.yolo_tiny_net.YoloTinyNet\\nweight_decay: 0.0005\\ncell_size: 7\\nboxes_per_cell: 2\\nobject_scale: 1\\nnoobject_scale: 0.5\\nclass_scale: 1\\ncoord_scale: 5\\n'"
      ]
     },
     "execution_count": 1,
     "metadata": {},
     "output_type": "execute_result"
    }
   ],
   "source": [
    "# coding: utf-8\n",
    "\"\"\"\n",
    "YOLO计算一张图片中的一个目标的loss\n",
    "\"\"\"\n",
    "\"\"\"\n",
    "[Common]\n",
    "image_size: 448\n",
    "batch_size: 16\n",
    "num_classes: 20\n",
    "max_objects_per_image: 20\n",
    "[DataSet]\n",
    "name: yolo.dataset.text_dataset.TextDataSet\n",
    "path: data/pascal_voc.txt\n",
    "thread_num: 5\n",
    "[Net]\n",
    "name: yolo.net.yolo_tiny_net.YoloTinyNet\n",
    "weight_decay: 0.0005\n",
    "cell_size: 7\n",
    "boxes_per_cell: 2\n",
    "object_scale: 1\n",
    "noobject_scale: 0.5\n",
    "class_scale: 1\n",
    "coord_scale: 5\n",
    "\"\"\""
   ]
  },
  {
   "cell_type": "code",
   "execution_count": 13,
   "metadata": {
    "collapsed": true
   },
   "outputs": [],
   "source": [
    "import tensorflow as tf\n",
    "import numpy as np"
   ]
  },
  {
   "cell_type": "code",
   "execution_count": 14,
   "metadata": {
    "collapsed": true
   },
   "outputs": [],
   "source": [
    "sess = tf.InteractiveSession()"
   ]
  },
  {
   "cell_type": "code",
   "execution_count": 35,
   "metadata": {
    "collapsed": false
   },
   "outputs": [
    {
     "name": "stdout",
     "output_type": "stream",
     "text": [
      "label_Probilities: [ 0.  0.  0.  0.  0.  0.  0.  0.  0.  0.  0.  1.  0.  0.  0.  0.  0.  0.\n",
      "  0.  0.]\n"
     ]
    }
   ],
   "source": [
    "label = np.array([160.,160.,100.,200.,11.],dtype=np.float32)\n",
    "predict = np.random.rand(7,7,30)\n",
    "predict = predict.astype(np.float32)\n",
    "x_center = label[0]\n",
    "y_center = label[1]\n",
    "w = label[2]\n",
    "h = label[3]\n",
    "object_scale = 1\n",
    "noobject_scale = 0.5\n",
    "class_scale = 1\n",
    "coord_scale = 5\n",
    "print(\"label_Probilities:\",label_Probilities.eval())"
   ]
  },
  {
   "cell_type": "code",
   "execution_count": 36,
   "metadata": {
    "collapsed": false
   },
   "outputs": [
    {
     "name": "stdout",
     "output_type": "stream",
     "text": [
      "objects:\n",
      " [[ 0.  1.  1.  1.  0.  0.  0.]\n",
      " [ 0.  1.  1.  1.  0.  0.  0.]\n",
      " [ 0.  1.  1.  1.  0.  0.  0.]\n",
      " [ 0.  1.  1.  1.  0.  0.  0.]\n",
      " [ 0.  1.  1.  1.  0.  0.  0.]\n",
      " [ 0.  0.  0.  0.  0.  0.  0.]\n",
      " [ 0.  0.  0.  0.  0.  0.  0.]]\n",
      "response:\n",
      " [[ 0.  0.  0.  0.  0.  0.  0.]\n",
      " [ 0.  0.  0.  0.  0.  0.  0.]\n",
      " [ 0.  0.  1.  0.  0.  0.  0.]\n",
      " [ 0.  0.  0.  0.  0.  0.  0.]\n",
      " [ 0.  0.  0.  0.  0.  0.  0.]\n",
      " [ 0.  0.  0.  0.  0.  0.  0.]\n",
      " [ 0.  0.  0.  0.  0.  0.  0.]]\n"
     ]
    }
   ],
   "source": [
    "#objects 7*7，含有目标的位置设为1，其余为0\n",
    "#response 7*7 目标中心所在网格设为1，其余为0\n",
    "x_min = tf.floor(((x_center - w/2) / 448) * 7)  #0\n",
    "x_max = tf.ceil(((x_center + w/2) / 448) * 7)   #3\n",
    "y_min = tf.floor(((y_center - h/2) / 448) * 7)  #0\n",
    "y_max = tf.ceil(((y_center + h/2) / 448) *7)   #3\n",
    "temp = tf.cast(tf.stack([y_max-y_min,x_max-x_min]),tf.int32)\n",
    "objects = tf.ones(temp,tf.float32)\n",
    "temp_1 = tf.cast(tf.stack([y_min,7-y_max,x_min,7-x_max]),tf.int32)\n",
    "temp_1 = tf.reshape(temp_1,[2,2])\n",
    "objects = tf.pad(objects,temp_1)\n",
    "objects.eval()\n",
    "x_center_min = tf.floor(x_center/448*7)\n",
    "y_center_min = tf.floor(y_center/448*7)\n",
    "response = tf.ones([1,1],tf.float32)\n",
    "temp_2 = tf.cast(tf.stack([y_center_min,7-(y_center_min+1),x_center_min,7-(x_center_min+1)]),tf.int32)\n",
    "temp_2 = tf.reshape(temp_2,[2,2])\n",
    "response = tf.pad(response,temp_2)\n",
    "print(\"objects:\\n\",objects.eval())\n",
    "print(\"response:\\n\",response.eval())"
   ]
  },
  {
   "cell_type": "code",
   "execution_count": 37,
   "metadata": {
    "collapsed": true
   },
   "outputs": [],
   "source": [
    "#预测的类别概率分布\n",
    "predict_Probilities = predict[:, :, 0:20]\n",
    "#groud truth probabilities\n",
    "label_Probilities = tf.one_hot(tf.cast(label[4],tf.int32),20,dtype=tf.float32)\n",
    "#class loss\n",
    "class_loss = tf.nn.l2_loss(tf.reshape(objects,(7,7,1)) * (predict_Probilities - label_Probilities )) * class_scale"
   ]
  },
  {
   "cell_type": "code",
   "execution_count": 51,
   "metadata": {
    "collapsed": false
   },
   "outputs": [],
   "source": [
    "##计算confidence loss,分为有object和noobject,对于某个目标，预测值里只有一个bbox的confidence为有object，iou最大那个\n",
    "#Confidence = P(object)*IOU\n",
    "\n",
    "#将预测的坐标值映射为相对于整张图片的坐标值\n",
    "#某个bbox的坐标xcenter和ycenter值在0-1之间，是相对某个网格的，长和宽是绝对值\n",
    "predict_boxes = predict[:,:,22:]\n",
    "predict_boxes = tf.reshape(predict_boxes,[7,7,2,4]) #两个bbox\n",
    "predict_boxes = predict_boxes*[448/7,448/7,448,448] \n",
    "base_boxes = np.zeros([7,7,4])\n",
    "base_boxes = base_boxes.astype(np.float32)\n",
    "for y in range(7):\n",
    "    for x in range(7):\n",
    "        base_boxes[y,x,:] = [(448/7)*y,(448/7)*x,0,0] \n",
    "#由于每个网格有多个预测框，所以需要重复叠加使其大小与predict_boxes一致\n",
    "base_boxes = tf.tile(tf.reshape(base_boxes,[7,7,1,4]),[1,1,2,1])\n",
    "predict_boxes = predict_boxes+base_boxes \n",
    "#计算IOU\n",
    "boxes1 = predict_boxes\n",
    "boxes2 = label[0:4]\n",
    "boxes1 = tf.stack([boxes1[:, :, :, 0] - boxes1[:, :, :, 2] / 2, boxes1[:, :, :, 1] - boxes1[:, :, :, 3] / 2,\n",
    "                      boxes1[:, :, :, 0] + boxes1[:, :, :, 2] / 2, boxes1[:, :, :, 1] + boxes1[:, :, :, 3] / 2])\n",
    "boxes1 = tf.transpose(boxes1, [1, 2, 3, 0])\n",
    "boxes2 = tf.cast(tf.stack([boxes2[0] - boxes2[2] / 2, boxes2[1] - boxes2[3] / 2,\n",
    "                      boxes2[0] + boxes2[2] / 2, boxes2[1] + boxes2[3] / 2]),tf.float32)\n",
    "\n",
    "left_up = tf.maximum(boxes1[:, :, :, 0:2], boxes2[0:2])  #相交的左上角坐标\n",
    "right_down = tf.minimum(boxes1[:, :, :, 2:], boxes2[2:]) #相交的右下角坐标\n",
    "#intersection\n",
    "intersection = right_down - left_up #[w,h]\n",
    "inter_square = intersection[:, :, :, 0] * intersection[:, :, :, 1]\n",
    "mask = tf.cast(intersection[:, :, :, 0] > 0, tf.float32) * tf.cast(intersection[:, :, :, 1] > 0, tf.float32)\n",
    "inter_square = mask * inter_square  #长和宽只要有一个小于0则面积为0\n",
    "\n",
    "#calculate the boxs1 square and boxs2 square\n",
    "square1 = (boxes1[:, :, :, 2] - boxes1[:, :, :, 0]) * (boxes1[:, :, :, 3] - boxes1[:, :, :, 1])\n",
    "square2 = (boxes2[2] - boxes2[0]) * (boxes2[3] - boxes2[1])\n",
    "predict_iou = inter_square/(square1 + square2 - inter_square + 1e-6) \n",
    "predict_iou = tf.cast(predict_iou,tf.float32)\n",
    "label_Confidence = predict_iou * tf.reshape(response,[7,7,1]) #包含object中心的网格的两个bbox的confidence不为0，其余都为0\n",
    "#两个bbox只取iou较大的那个，另一个也置为0，如下I tensor\n",
    "\n",
    "#calculate I tensor [CELL_SIZE, CELL_SIZE, BOXES_PER_CELL] \n",
    "#\n",
    "I = predict_iou * tf.reshape(response, (7,7,1))\n",
    "max_I = tf.reduce_max(I, 2, keep_dims=True) #这儿2表示第2维，（0,1,2）三维\n",
    "I = tf.cast((I >= max_I), tf.float32) * tf.reshape(response, (7,7,1))\n",
    "#calculate no_I tensor [CELL_SIZE, CELL_SIZE, BOXES_PER_CELL]\n",
    "no_I = tf.ones_like(I, dtype=tf.float32) - I \n",
    "\n",
    "#predict_confidence\n",
    "predict_Confidence = predict[:,:,20:22]\n",
    "\n",
    "#object_confidence_loss\n",
    "object_loss = tf.nn.l2_loss(I * (predict_Confidence - label_Confidence)) * object_scale\n",
    "#object_loss = tf.nn.l2_loss(I * (p_C - (C + 1.0)/2.0)) * self.object_scale\n",
    "\n",
    "#noobject_confidence_loss\n",
    "#noobject_loss = tf.nn.l2_loss(no_I * (p_C - C)) * self.noobject_scale\n",
    "noobject_loss = tf.nn.l2_loss(no_I * (predict_Confidence)) * noobject_scale\n"
   ]
  },
  {
   "cell_type": "code",
   "execution_count": 53,
   "metadata": {
    "collapsed": false
   },
   "outputs": [],
   "source": [
    "#calculate truth x,y,sqrt_w,sqrt_h 0-D  只计算包含object中心的网格对应的iou最大的那个bbox\n",
    "x = label[0]\n",
    "y = label[1]\n",
    "sqrt_w = tf.sqrt(tf.abs(label[2]))\n",
    "sqrt_h = tf.sqrt(tf.abs(label[3]))\n",
    "#calculate predict p_x, p_y, p_sqrt_w, p_sqrt_h 3-D [CELL_SIZE, CELL_SIZE, BOXES_PER_CELL]\n",
    "p_x = predict_boxes[:, :, :, 0]\n",
    "p_y = predict_boxes[:, :, :, 1]\n",
    "p_sqrt_w = tf.sqrt(tf.minimum(448 * 1.0, tf.maximum(0.0, predict_boxes[:, :, :, 2])))\n",
    "p_sqrt_h = tf.sqrt(tf.minimum(448 * 1.0, tf.maximum(0.0, predict_boxes[:, :, :, 3])))\n",
    "#coord_loss\n",
    "coord_loss = (tf.nn.l2_loss(I * (p_x - x)/(448/7)) +\n",
    "                tf.nn.l2_loss(I * (p_y - y)/(448/7)) +\n",
    "                tf.nn.l2_loss(I * (p_sqrt_w - sqrt_w))/ 448 +\n",
    "                tf.nn.l2_loss(I * (p_sqrt_h - sqrt_h))/448) * coord_scale\n",
    "\n"
   ]
  },
  {
   "cell_type": "code",
   "execution_count": 55,
   "metadata": {
    "collapsed": false
   },
   "outputs": [],
   "source": [
    "loss = class_loss + object_loss + noobject_loss + coord_loss"
   ]
  },
  {
   "cell_type": "code",
   "execution_count": null,
   "metadata": {
    "collapsed": true
   },
   "outputs": [],
   "source": [
    "\n"
   ]
  },
  {
   "cell_type": "code",
   "execution_count": null,
   "metadata": {
    "collapsed": false
   },
   "outputs": [],
   "source": [
    "\n"
   ]
  },
  {
   "cell_type": "code",
   "execution_count": null,
   "metadata": {
    "collapsed": true
   },
   "outputs": [],
   "source": []
  }
 ],
 "metadata": {
  "kernelspec": {
   "display_name": "Python 3",
   "language": "python",
   "name": "python3"
  },
  "language_info": {
   "codemirror_mode": {
    "name": "ipython",
    "version": 3
   },
   "file_extension": ".py",
   "mimetype": "text/x-python",
   "name": "python",
   "nbconvert_exporter": "python",
   "pygments_lexer": "ipython3",
   "version": "3.5.1"
  }
 },
 "nbformat": 4,
 "nbformat_minor": 0
}
