{
 "cells": [
  {
   "cell_type": "code",
   "execution_count": 81,
   "metadata": {
    "collapsed": true
   },
   "outputs": [],
   "source": [
    "\"\"\"\n",
    "使用tensorflow构建一个三层全连接传统神经网络,作为字符识别的多分类器。通过字符图片预测对应的数字，对mnist数据集进行预测。\n",
    "\"\"\"\n",
    "#coding:utf8\n",
    "from tensorflow.examples.tutorials.mnist import input_data\n",
    "import tensorflow as tf\n",
    "import matplotlib.pyplot as plt\n",
    "import numpy as np\n",
    "import math\n",
    "%matplotlib inline"
   ]
  },
  {
   "cell_type": "code",
   "execution_count": 82,
   "metadata": {
    "collapsed": false
   },
   "outputs": [
    {
     "name": "stdout",
     "output_type": "stream",
     "text": [
      "Extracting ./mnist/train-images-idx3-ubyte.gz\n",
      "Extracting ./mnist/train-labels-idx1-ubyte.gz\n",
      "Extracting ./mnist/t10k-images-idx3-ubyte.gz\n",
      "Extracting ./mnist/t10k-labels-idx1-ubyte.gz\n"
     ]
    }
   ],
   "source": [
    "mnist = input_data.read_data_sets(\"./mnist/\",one_hot=True)"
   ]
  },
  {
   "cell_type": "code",
   "execution_count": 83,
   "metadata": {
    "collapsed": false
   },
   "outputs": [
    {
     "name": "stdout",
     "output_type": "stream",
     "text": [
      "Training set: (55000, 784)\n",
      "Training set labels: (55000, 10)\n",
      "Dev Set(Cross Validation set): (5000, 784)\n",
      "Dev Set labels: (5000, 10)\n",
      "Test Set: (10000, 784)\n",
      "Test Set labels: (10000, 10)\n"
     ]
    }
   ],
   "source": [
    "print(\"Training set:\",mnist.train.images.shape)\n",
    "print(\"Training set labels:\",mnist.train.labels.shape)\n",
    "print(\"Dev Set(Cross Validation set):\",mnist.validation.images.shape)\n",
    "print(\"Dev Set labels:\",mnist.validation.labels.shape)\n",
    "print(\"Test Set:\",mnist.test.images.shape)\n",
    "print(\"Test Set labels:\",mnist.test.labels.shape)"
   ]
  },
  {
   "cell_type": "code",
   "execution_count": 84,
   "metadata": {
    "collapsed": false
   },
   "outputs": [],
   "source": [
    "x_train = mnist.train.images\n",
    "y_train = mnist.train.labels\n",
    "x_dev = mnist.validation.images\n",
    "y_dev = mnist.validation.labels\n",
    "x_test = mnist.test.images\n",
    "y_test = mnist.test.labels"
   ]
  },
  {
   "cell_type": "code",
   "execution_count": 85,
   "metadata": {
    "collapsed": false
   },
   "outputs": [
    {
     "data": {
      "text/plain": [
       "(55000, 784)"
      ]
     },
     "execution_count": 85,
     "metadata": {},
     "output_type": "execute_result"
    }
   ],
   "source": [
    "x_train.shape"
   ]
  },
  {
   "cell_type": "code",
   "execution_count": 86,
   "metadata": {
    "collapsed": false
   },
   "outputs": [],
   "source": [
    "def display_digit(index):\n",
    "    print(y_train[index])\n",
    "    label = y_train[index].argmax(axis=0)\n",
    "    image = x_train[index].reshape([28,28])\n",
    "    plt.title(\"Example: %d  Label: %d\" % (index, label))\n",
    "    plt.imshow(image, cmap=plt.get_cmap(\"gray_r\"))\n",
    "    plt.show()"
   ]
  },
  {
   "cell_type": "code",
   "execution_count": 87,
   "metadata": {
    "collapsed": false,
    "scrolled": true
   },
   "outputs": [
    {
     "name": "stdout",
     "output_type": "stream",
     "text": [
      "[ 0.  0.  0.  0.  0.  0.  0.  0.  1.  0.]\n"
     ]
    },
    {
     "data": {
      "image/png": "[encoded data removed]",
      "text/plain": [
       "<matplotlib.figure.Figure at 0x24290ac8>"
      ]
     },
     "metadata": {},
     "output_type": "display_data"
    }
   ],
   "source": [
    "display_digit(5)"
   ]
  },
  {
   "cell_type": "code",
   "execution_count": 88,
   "metadata": {
    "collapsed": false
   },
   "outputs": [
    {
     "name": "stdout",
     "output_type": "stream",
     "text": [
      "(10,)\n"
     ]
    }
   ],
   "source": [
    "print(y_train[5].shape)"
   ]
  },
  {
   "cell_type": "code",
   "execution_count": 93,
   "metadata": {
    "collapsed": false
   },
   "outputs": [
    {
     "name": "stdout",
     "output_type": "stream",
     "text": [
      "x_train shape (784, 55000)\n",
      "y_train shape (10, 55000)\n"
     ]
    }
   ],
   "source": [
    "#按照Andrew的建议把样本横向排列\n",
    "x_train = x_train.T\n",
    "y_train = y_train.T\n",
    "x_dev = x_dev.T\n",
    "y_dev = y_dev.T\n",
    "x_test = x_test.T\n",
    "y_test = y_test.T\n",
    "print(\"x_train shape\",x_train.shape)\n",
    "print(\"y_train shape\",y_train.shape)"
   ]
  },
  {
   "cell_type": "code",
   "execution_count": 94,
   "metadata": {
    "collapsed": false
   },
   "outputs": [],
   "source": [
    "def random_mini_batches(X,Y,mini_batch_size=64):\n",
    "    \"\"\"\n",
    "    Creates a list of random minibatches from (X, Y)\n",
    "\n",
    "    Arguments:\n",
    "    X -- input data, of shape (input size, number of examples)\n",
    "    Y -- true \"label\" vector (1 for blue dot / 0 for red dot), of shape (1, number of examples)\n",
    "    mini_batch_size -- size of the mini-batches, integer\n",
    "\n",
    "    Returns:\n",
    "    mini_batches -- list of synchronous (mini_batch_X, mini_batch_Y)\n",
    "    \"\"\"\n",
    "    m = X.shape[1] #训练样本个数\n",
    "    mini_batches = []\n",
    "    # Step 1: Shuffle (X, Y)\n",
    "    permutation = list(np.random.permutation(m))\n",
    "    shuffled_X = X[:, permutation]\n",
    "    shuffled_Y = Y[:, permutation].reshape((-1, m))\n",
    "\n",
    "    # Step 2: Partition (shuffled_X, shuffled_Y). Minus the end case.\n",
    "    num_complete_minibatches = math.floor(\n",
    "        m / mini_batch_size)  # number of mini batches of size mini_batch_size in your partitionning\n",
    "    for k in range(0, num_complete_minibatches):\n",
    "        mini_batch_X = shuffled_X[:, k * mini_batch_size:(k + 1) * mini_batch_size]\n",
    "        mini_batch_Y = shuffled_Y[:, k * mini_batch_size:(k + 1) * mini_batch_size]\n",
    "        \n",
    "        mini_batch = (mini_batch_X, mini_batch_Y)\n",
    "        mini_batches.append(mini_batch)\n",
    "\n",
    "    # Handling the end case (last mini-batch < mini_batch_size)\n",
    "    if m % mini_batch_size != 0:\n",
    "        mini_batch_X = shuffled_X[:, mini_batch_size * num_complete_minibatches:]\n",
    "        mini_batch_Y = shuffled_Y[:, mini_batch_size * num_complete_minibatches:]\n",
    "        \n",
    "        mini_batch = (mini_batch_X, mini_batch_Y)\n",
    "        mini_batches.append(mini_batch)\n",
    "\n",
    "    return mini_batches"
   ]
  },
  {
   "cell_type": "code",
   "execution_count": 95,
   "metadata": {
    "collapsed": true
   },
   "outputs": [],
   "source": [
    "\"参数初始化\"\n",
    "layer_dims = [784,64,128,10] #三层网络，hidden units个数为64,128，10   一共有10个类别"
   ]
  },
  {
   "cell_type": "code",
   "execution_count": 96,
   "metadata": {
    "collapsed": false
   },
   "outputs": [],
   "source": [
    "def init_parameters(layer_dims):\n",
    "    parameters = {}\n",
    "    L = len(layer_dims) - 1 # number of layers in the network\n",
    "    for l in range(1,L+1):\n",
    "        parameters[\"W\"+str(l)] = tf.Variable(tf.random_normal([layer_dims[l], layer_dims[l-1]]))\n",
    "        parameters[\"b\"+str(l)] = tf.Variable(tf.random_normal([layer_dims[l],1]))\n",
    "    return parameters"
   ]
  },
  {
   "cell_type": "code",
   "execution_count": 97,
   "metadata": {
    "collapsed": false
   },
   "outputs": [],
   "source": [
    "def forward_propagation(X, parameters):\n",
    "    W1 = parameters['W1']\n",
    "    b1 = parameters['b1']\n",
    "    W2 = parameters['W2']\n",
    "    b2 = parameters['b2']\n",
    "    W3 = parameters['W3']\n",
    "    b3 = parameters['b3']\n",
    "\n",
    "    Z1 = tf.add(tf.matmul(W1, X), b1)  # Z1 = np.dot(W1, X) + b1\n",
    "    A1 = tf.nn.relu(Z1)  # A1 = relu(Z1)\n",
    "    Z2 = tf.add(tf.matmul(W2, A1), b2)  # Z2 = np.dot(W2, a1) + b2\n",
    "    A2 = tf.nn.relu(Z2)  # A2 = relu(Z2)\n",
    "    Z3 = tf.add(tf.matmul(W3, A2), b3)  # Z3 = np.dot(W3,Z2) + b3\n",
    "\n",
    "    return Z3"
   ]
  },
  {
   "cell_type": "code",
   "execution_count": 98,
   "metadata": {
    "collapsed": true
   },
   "outputs": [],
   "source": [
    "def compute_cost(Z3, Y):\n",
    "    \"\"\"\n",
    "    Computes the cost\n",
    "\n",
    "    Arguments:\n",
    "    Z3 -- output of forward propagation (output of the last LINEAR unit), of shape (10, number of examples)\n",
    "    Y -- \"true\" labels vector placeholder, same shape as Z3\n",
    "\n",
    "    Returns:\n",
    "    cost - Tensor of the cost function\n",
    "    \"\"\"\n",
    "\n",
    "    # to fit the tensorflow requirement for tf.nn.softmax_cross_entropy_with_logits(...,...)\n",
    "    logits = tf.transpose(Z3)\n",
    "    labels = tf.transpose(Y)\n",
    "\n",
    "    cost = tf.reduce_mean(tf.nn.softmax_cross_entropy_with_logits(logits=logits, labels=labels))\n",
    "    return cost"
   ]
  },
  {
   "cell_type": "code",
   "execution_count": 105,
   "metadata": {
    "collapsed": true
   },
   "outputs": [],
   "source": [
    "def tf_nn_model(X_train,Y_train,X_test,Y_test,layer_dims,learning_rate=0.001,num_epochs=100,minibatch_size=64,print_cost=True):\n",
    "    (n_x,m) = X_train.shape # (n_x: input size, m : number of examples in the train set)\n",
    "    n_y = Y_train.shape[0] # n_y : output size\n",
    "    costs = [] # to keep track of the cost\n",
    "    X = tf.placeholder(tf.float32, [n_x, None], name=\"X\")\n",
    "    Y = tf.placeholder(tf.float32, [n_y, None], name=\"Y\")\n",
    "    parameters = init_parameters(layer_dims)\n",
    "    Z3 = forward_propagation(X, parameters)\n",
    "    cost = compute_cost(Z3, Y)\n",
    "    optimizer = tf.train.AdamOptimizer(learning_rate=learning_rate).minimize(cost)\n",
    "    init  = tf.global_variables_initializer()\n",
    "    \n",
    "    with tf.Session() as sess:\n",
    "        sess.run(init)\n",
    "        for epoch in range(num_epochs):\n",
    "            epoch_cost = 0.  # Defines a cost related to an epoch\n",
    "            num_minibatches = int(m / minibatch_size)\n",
    "            minibatches = random_mini_batches(X_train, Y_train, minibatch_size)\n",
    "            for minibatch in minibatches:\n",
    "                (minibatch_X, minibatch_Y) = minibatch\n",
    "                _, minibatch_cost = sess.run([optimizer, cost], feed_dict={X: minibatch_X, Y: minibatch_Y})\n",
    "                epoch_cost += minibatch_cost / num_minibatches\n",
    "            if print_cost == True and epoch % 10 == 0:\n",
    "                print(\"Cost after epoch %i: %f\" % (epoch, epoch_cost))\n",
    "            if print_cost == True and epoch % 5 == 0:\n",
    "                costs.append(epoch_cost)   \n",
    "        # plot the cost\n",
    "        plt.plot(np.squeeze(costs))\n",
    "        plt.ylabel('cost')\n",
    "        plt.xlabel('iterations (per tens)')\n",
    "        plt.title(\"Learning rate =\" + str(learning_rate))\n",
    "        plt.show() \n",
    "        \n",
    "        parameters = sess.run(parameters)\n",
    "        print(\"Parameters have been trained!\")\n",
    "        \n",
    "        correct_prediction = tf.equal(tf.argmax(Z3), tf.argmax(Y))\n",
    "        accuracy = tf.reduce_mean(tf.cast(correct_prediction, \"float\"))\n",
    "        print(\"Train Accuracy:\", accuracy.eval({X: X_train, Y: Y_train}))\n",
    "        print(\"Test Accuracy:\", accuracy.eval({X: X_test, Y: Y_test}))\n",
    "\n",
    "        return parameters"
   ]
  },
  {
   "cell_type": "code",
   "execution_count": 106,
   "metadata": {
    "collapsed": false
   },
   "outputs": [
    {
     "name": "stdout",
     "output_type": "stream",
     "text": [
      "Cost after epoch 0: 75.913229\n",
      "Cost after epoch 10: 1.541095\n",
      "Cost after epoch 20: 0.436585\n",
      "Cost after epoch 30: 0.174160\n",
      "Cost after epoch 40: 0.090298\n",
      "Cost after epoch 50: 0.064457\n",
      "Cost after epoch 60: 0.044082\n",
      "Cost after epoch 70: 0.035504\n",
      "Cost after epoch 80: 0.022698\n",
      "Cost after epoch 90: 0.023649\n"
     ]
    },
    {
     "data": {
      "image/png": "[encoded data removed]",
      "text/plain": [
       "<matplotlib.figure.Figure at 0x2494e7b8>"
      ]
     },
     "metadata": {},
     "output_type": "display_data"
    },
    {
     "name": "stdout",
     "output_type": "stream",
     "text": [
      "Parameters have been trained!\n",
      "Train Accuracy: 0.994545\n",
      "Test Accuracy: 0.9427\n"
     ]
    },
    {
     "data": {
      "text/plain": [
       "{'W1': array([[ 0.2372188 ,  1.27198195, -0.6455391 , ...,  1.26290512,\n",
       "         -0.69059598,  0.36647785],\n",
       "        [-0.50644702, -0.74370074,  0.38941762, ..., -0.15578361,\n",
       "         -0.31009915, -0.17434931],\n",
       "        [-2.5437634 ,  0.44527429, -0.70932513, ..., -1.01713133,\n",
       "         -0.14752612,  0.19787782],\n",
       "        ..., \n",
       "        [ 3.25048923,  0.08093037,  0.77567875, ..., -0.79534328,\n",
       "          1.43014407,  0.21873565],\n",
       "        [-1.93292856, -0.19783179,  0.12327723, ..., -0.22539552,\n",
       "          0.13556184,  0.87210643],\n",
       "        [-0.93210453,  0.2583403 ,  1.58626533, ..., -1.69557643,\n",
       "          0.31096032,  0.41782433]], dtype=float32),\n",
       " 'W2': array([[ 0.66262263, -0.41401526,  0.83104825, ..., -0.28790367,\n",
       "          1.44923198, -0.01293663],\n",
       "        [-0.94457793, -0.47847596,  0.39193049, ..., -0.44852871,\n",
       "          0.31511024, -0.12879851],\n",
       "        [ 0.83933985, -0.25525221,  1.83002853, ..., -0.7023285 ,\n",
       "          0.29116887,  1.32396758],\n",
       "        ..., \n",
       "        [-1.21769059,  0.21980943,  0.05707775, ..., -0.70724338,\n",
       "          0.13368286, -0.47907224],\n",
       "        [-0.78505909, -0.26749918, -1.0756464 , ...,  0.10546964,\n",
       "          0.59970111, -0.47928923],\n",
       "        [ 1.57277954,  0.20598291, -0.38545936, ..., -0.68153149,\n",
       "         -0.01901394, -1.09839475]], dtype=float32),\n",
       " 'W3': array([[ 0.23412205,  1.4664923 ,  1.02762878, ...,  0.13184339,\n",
       "          1.05118167, -0.00358887],\n",
       "        [ 0.26813394,  0.295957  ,  1.49240541, ...,  0.82661223,\n",
       "          0.67465705, -0.32320595],\n",
       "        [ 1.19123352, -0.83540916,  0.07576221, ..., -0.58284307,\n",
       "          0.32790881,  0.13413283],\n",
       "        ..., \n",
       "        [ 0.43964136,  1.74946868, -0.54555362, ..., -0.1613521 ,\n",
       "         -0.37434128,  0.80795258],\n",
       "        [ 0.60402709,  0.05262127,  0.42084417, ...,  0.47054997,\n",
       "         -0.32987207, -1.64671504],\n",
       "        [-0.78972542,  0.7970084 , -0.60551286, ...,  1.74413514,\n",
       "          0.6057446 , -0.28617254]], dtype=float32),\n",
       " 'b1': array([[-0.4571954 ],\n",
       "        [-0.30936778],\n",
       "        [-0.83330458],\n",
       "        [-1.68725026],\n",
       "        [-1.42897224],\n",
       "        [-1.04096746],\n",
       "        [-0.54966289],\n",
       "        [ 2.43672371],\n",
       "        [ 1.36083376],\n",
       "        [-1.51412904],\n",
       "        [-2.0457561 ],\n",
       "        [-2.69589877],\n",
       "        [-0.23028924],\n",
       "        [ 0.88664472],\n",
       "        [-1.48165977],\n",
       "        [-2.08099437],\n",
       "        [ 0.43034646],\n",
       "        [ 0.7627002 ],\n",
       "        [ 0.40478835],\n",
       "        [-0.51313281],\n",
       "        [-1.18395376],\n",
       "        [-0.36716571],\n",
       "        [-1.98513615],\n",
       "        [-0.58582592],\n",
       "        [-0.77087468],\n",
       "        [-0.9414832 ],\n",
       "        [ 0.25200051],\n",
       "        [-0.98766547],\n",
       "        [ 0.31909475],\n",
       "        [ 0.0800764 ],\n",
       "        [-0.01556224],\n",
       "        [ 0.83097136],\n",
       "        [ 0.32423681],\n",
       "        [ 1.24688494],\n",
       "        [-0.02111918],\n",
       "        [-2.12303662],\n",
       "        [-1.69796181],\n",
       "        [ 0.68959635],\n",
       "        [-0.6191389 ],\n",
       "        [-1.28080022],\n",
       "        [-0.17510706],\n",
       "        [-0.23040138],\n",
       "        [-0.46036553],\n",
       "        [ 1.56836855],\n",
       "        [ 2.0383904 ],\n",
       "        [-0.86711407],\n",
       "        [-1.19858789],\n",
       "        [-1.96049547],\n",
       "        [ 1.14845157],\n",
       "        [-0.75677299],\n",
       "        [-2.4980433 ],\n",
       "        [ 0.13432245],\n",
       "        [ 0.24774934],\n",
       "        [-0.10357552],\n",
       "        [ 0.93644065],\n",
       "        [-1.22094846],\n",
       "        [ 1.15299678],\n",
       "        [ 1.51815248],\n",
       "        [-0.20407377],\n",
       "        [-0.76557356],\n",
       "        [ 0.5967567 ],\n",
       "        [ 1.13081288],\n",
       "        [-0.34519741],\n",
       "        [-0.18847673]], dtype=float32),\n",
       " 'b2': array([[ 0.28188977],\n",
       "        [ 1.13188219],\n",
       "        [-0.51833898],\n",
       "        [ 1.55272174],\n",
       "        [ 0.3362346 ],\n",
       "        [-0.62963486],\n",
       "        [-0.55736727],\n",
       "        [-1.99950421],\n",
       "        [ 1.64439845],\n",
       "        [ 0.09734726],\n",
       "        [-2.69561672],\n",
       "        [ 0.29041779],\n",
       "        [ 0.72709852],\n",
       "        [ 0.43301356],\n",
       "        [-0.43779549],\n",
       "        [-0.6581856 ],\n",
       "        [-2.80175161],\n",
       "        [-0.41372192],\n",
       "        [-2.09087038],\n",
       "        [-0.47786576],\n",
       "        [ 0.31763604],\n",
       "        [ 1.85912359],\n",
       "        [ 1.59187448],\n",
       "        [-1.36818421],\n",
       "        [-0.65758836],\n",
       "        [-0.12403597],\n",
       "        [ 1.05362165],\n",
       "        [-0.30393735],\n",
       "        [ 1.8399303 ],\n",
       "        [-0.29227388],\n",
       "        [ 0.75677097],\n",
       "        [ 0.3613534 ],\n",
       "        [-0.18842472],\n",
       "        [-0.66885817],\n",
       "        [-0.27949655],\n",
       "        [-0.89438319],\n",
       "        [-1.51220632],\n",
       "        [ 0.93994361],\n",
       "        [-1.54467905],\n",
       "        [-1.00363708],\n",
       "        [-0.57895792],\n",
       "        [-0.52491599],\n",
       "        [ 2.27655602],\n",
       "        [-0.85130656],\n",
       "        [ 0.04630496],\n",
       "        [ 1.12568331],\n",
       "        [-0.38881832],\n",
       "        [-0.27415273],\n",
       "        [-0.86503613],\n",
       "        [ 0.96864253],\n",
       "        [-0.9870069 ],\n",
       "        [ 0.37869945],\n",
       "        [-1.68591571],\n",
       "        [-0.62210619],\n",
       "        [-0.01916602],\n",
       "        [ 0.11517724],\n",
       "        [-0.29602063],\n",
       "        [-1.42557037],\n",
       "        [ 1.11371112],\n",
       "        [-1.10030782],\n",
       "        [-0.23480549],\n",
       "        [-0.83260995],\n",
       "        [ 0.78863978],\n",
       "        [-0.44784972],\n",
       "        [ 0.18259326],\n",
       "        [ 1.48195684],\n",
       "        [-0.32906139],\n",
       "        [-1.4134475 ],\n",
       "        [ 0.52768463],\n",
       "        [-0.46708786],\n",
       "        [-1.52612662],\n",
       "        [ 0.30641365],\n",
       "        [-1.06699479],\n",
       "        [-1.44061339],\n",
       "        [-1.39849806],\n",
       "        [-0.65535295],\n",
       "        [-0.17019601],\n",
       "        [ 0.86427599],\n",
       "        [ 0.51089519],\n",
       "        [ 0.63639545],\n",
       "        [-0.31796476],\n",
       "        [-0.96631444],\n",
       "        [-1.21334612],\n",
       "        [ 0.79893589],\n",
       "        [ 0.90393507],\n",
       "        [ 1.05157661],\n",
       "        [-0.1798792 ],\n",
       "        [ 0.35506439],\n",
       "        [-0.88265395],\n",
       "        [-0.77211195],\n",
       "        [-0.35244057],\n",
       "        [-0.97597492],\n",
       "        [ 1.81438792],\n",
       "        [ 1.50866187],\n",
       "        [ 1.76945257],\n",
       "        [-2.2490623 ],\n",
       "        [ 1.27219939],\n",
       "        [ 0.11137661],\n",
       "        [-0.03369612],\n",
       "        [ 1.64185321],\n",
       "        [ 0.14421514],\n",
       "        [ 1.1957972 ],\n",
       "        [ 0.10298974],\n",
       "        [-1.63592625],\n",
       "        [ 1.57520294],\n",
       "        [-2.0683074 ],\n",
       "        [-0.78121209],\n",
       "        [-0.02082653],\n",
       "        [ 0.88429558],\n",
       "        [ 0.98407972],\n",
       "        [-1.09006429],\n",
       "        [ 0.44493109],\n",
       "        [-1.88774467],\n",
       "        [-2.0510056 ],\n",
       "        [-1.04833782],\n",
       "        [ 1.08415902],\n",
       "        [-1.55531442],\n",
       "        [-1.52134264],\n",
       "        [ 0.23356596],\n",
       "        [-0.70101881],\n",
       "        [-0.25792068],\n",
       "        [ 0.41581729],\n",
       "        [-0.11349884],\n",
       "        [-3.29242682],\n",
       "        [-0.68287402],\n",
       "        [ 1.45735371],\n",
       "        [ 0.07658232],\n",
       "        [-0.82881683]], dtype=float32),\n",
       " 'b3': array([[ 0.99828368],\n",
       "        [-0.78877753],\n",
       "        [-1.29528141],\n",
       "        [-1.95668292],\n",
       "        [ 1.43690228],\n",
       "        [-0.19944769],\n",
       "        [ 1.00068772],\n",
       "        [ 0.8051874 ],\n",
       "        [ 0.80680549],\n",
       "        [ 0.26735926]], dtype=float32)}"
      ]
     },
     "execution_count": 106,
     "metadata": {},
     "output_type": "execute_result"
    }
   ],
   "source": [
    "tf_nn_model(x_train,y_train,x_test,y_test,layer_dims,learning_rate=0.001,num_epochs=100,minibatch_size=64,print_cost=True)"
   ]
  },
  {
   "cell_type": "code",
   "execution_count": null,
   "metadata": {
    "collapsed": true
   },
   "outputs": [],
   "source": [
    ""
   ]
  }
 ],
 "metadata": {
  "kernelspec": {
   "display_name": "Python 3",
   "language": "python",
   "name": "python3"
  },
  "language_info": {
   "codemirror_mode": {
    "name": "ipython",
    "version": 3.0
   },
   "file_extension": ".py",
   "mimetype": "text/x-python",
   "name": "python",
   "nbconvert_exporter": "python",
   "pygments_lexer": "ipython3",
   "version": "3.5.1"
  }
 },
 "nbformat": 4,
 "nbformat_minor": 0
}